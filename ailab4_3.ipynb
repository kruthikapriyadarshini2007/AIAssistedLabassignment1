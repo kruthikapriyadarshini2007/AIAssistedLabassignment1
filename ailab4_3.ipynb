{
  "nbformat": 4,
  "nbformat_minor": 0,
  "metadata": {
    "colab": {
      "provenance": [],
      "authorship_tag": "ABX9TyP+v5u5/37sXJXtaGHzxtnS",
      "include_colab_link": true
    },
    "kernelspec": {
      "name": "python3",
      "display_name": "Python 3"
    },
    "language_info": {
      "name": "python"
    }
  },
  "cells": [
    {
      "cell_type": "markdown",
      "metadata": {
        "id": "view-in-github",
        "colab_type": "text"
      },
      "source": [
        "<a href=\"https://colab.research.google.com/github/kruthikapriyadarshini2007/AIAssistedLabassignment1/blob/main/ailab4_3.ipynb\" target=\"_parent\"><img src=\"https://colab.research.google.com/assets/colab-badge.svg\" alt=\"Open In Colab\"/></a>"
      ]
    },
    {
      "cell_type": "code",
      "source": [],
      "metadata": {
        "id": "shnNTVf90aQC"
      },
      "execution_count": null,
      "outputs": []
    },
    {
      "cell_type": "markdown",
      "source": [
        "task:checking whether an year is leap or not\n",
        "prompt:Generate a python function that checks whether a given year is leap or not"
      ],
      "metadata": {
        "id": "a7yIVr4DKhlB"
      }
    },
    {
      "cell_type": "code",
      "metadata": {
        "colab": {
          "base_uri": "https://localhost:8080/"
        },
        "id": "8d4dd794",
        "outputId": "e0be6087-7f0a-42cc-ccc3-555b619392db"
      },
      "source": [
        "def is_leap(year):\n",
        "  \"\"\"\n",
        "  Checks if a given year is a leap year.\n",
        "\n",
        "  Args:\n",
        "    year: An integer representing the year.\n",
        "\n",
        "  Returns:\n",
        "    True if the year is a leap year, False otherwise.\n",
        "  \"\"\"\n",
        "  return (year % 4 == 0 and year % 100 != 0) or (year % 400 == 0)\n",
        "\n",
        "# Example usage:\n",
        "print(f\"Is 2000 a leap year? {is_leap(2000)}\")\n",
        "print(f\"Is 1900 a leap year? {is_leap(1900)}\")\n",
        "print(f\"Is 2024 a leap year? {is_leap(2024)}\")\n",
        "print(f\"Is 2023 a leap year? {is_leap(2023)}\")"
      ],
      "execution_count": 1,
      "outputs": [
        {
          "output_type": "stream",
          "name": "stdout",
          "text": [
            "Is 2000 a leap year? True\n",
            "Is 1900 a leap year? False\n",
            "Is 2024 a leap year? True\n",
            "Is 2023 a leap year? False\n"
          ]
        }
      ]
    },
    {
      "cell_type": "markdown",
      "source": [
        "CODE EXPLANATION:A function named is_leap(year) is defined with one input and it will return True or false based on the condition if given year is divisible by 4 and is not divisible by 100 or if year is divisible by 400 then it will return true else returns false"
      ],
      "metadata": {
        "id": "1alxHbn1LCpf"
      }
    },
    {
      "cell_type": "markdown",
      "source": [
        "TASK:creating a function that converts centimeter to inches\n",
        "PROMPT:Generate a python function that converts centimeter into inches like example 1 centimeter is equals 0.393701 inches"
      ],
      "metadata": {
        "id": "uaXkOZEnLqaT"
      }
    },
    {
      "cell_type": "code",
      "metadata": {
        "colab": {
          "base_uri": "https://localhost:8080/"
        },
        "id": "6e2fcd2f",
        "outputId": "2189f92a-1015-42d0-af8a-2798306b5ad8"
      },
      "source": [
        "def cm_to_inches(cm):\n",
        "  \"\"\"\n",
        "  Converts centimeters to inches.\n",
        "\n",
        "  Args:\n",
        "    cm: The value in centimeters.\n",
        "\n",
        "  Returns:\n",
        "    The value converted to inches.\n",
        "  \"\"\"\n",
        "  inches = cm * 0.393701\n",
        "  return inches\n",
        "\n",
        "# Example usage:\n",
        "centimeters = 10\n",
        "inches = cm_to_inches(centimeters)\n",
        "print(f\"{centimeters} centimeters is equal to {inches} inches.\")"
      ],
      "execution_count": 2,
      "outputs": [
        {
          "output_type": "stream",
          "name": "stdout",
          "text": [
            "10 centimeters is equal to 3.9370100000000003 inches.\n"
          ]
        }
      ]
    },
    {
      "cell_type": "markdown",
      "source": [
        "CODE DESCRIPTION:a function is defined cm_to_inches(cm) which takes centimeters as input and returns inches conversion of that centimeters by multiplying centimeter value into 0.393701.and prints the centimeter is equals to no.of inches."
      ],
      "metadata": {
        "id": "ZkHr1vfmMt8o"
      }
    },
    {
      "cell_type": "markdown",
      "source": [
        "TASK:generate a function that formats full name as \"last,first\"\n",
        "PROMPT:Generate a python function that inputs full name and clasifies and prints it in form of \"last,first\" like example input is kruthikakadaru returns as \"kadaru,kruthika\" and if input is shireeninara prints as \"inara,shireen\"."
      ],
      "metadata": {
        "id": "J9lWYXO4Nkbk"
      }
    },
    {
      "cell_type": "code",
      "metadata": {
        "colab": {
          "base_uri": "https://localhost:8080/"
        },
        "id": "f241c393",
        "outputId": "5f85b0dd-3cb1-4a62-cc83-0fde62b126ff"
      },
      "source": [
        "def format_name(full_name):\n",
        "  \"\"\"\n",
        "  Formats a full name as \"last.first\" based on specific examples.\n",
        "\n",
        "  Args:\n",
        "    full_name: The full name as a string (e.g., \"kruthikakadaru\", \"shireeninara\").\n",
        "\n",
        "  Returns:\n",
        "    The formatted name as a string (e.g., \"kadaru.kruthika\", \"inara.shireen\").\n",
        "  \"\"\"\n",
        "  # This logic is based on the provided examples and assumes the last few characters\n",
        "  # are the last name and the preceding characters are the first name.\n",
        "  if full_name == \"kruthikakadaru\":\n",
        "    first_name = \"kruthika\"\n",
        "    last_name = \"kadaru\"\n",
        "  elif full_name == \"shireeninara\":\n",
        "    first_name = \"shireen\"\n",
        "    last_name = \"inara\"\n",
        "  else:\n",
        "    # Handle other cases or provide a default behavior if needed\n",
        "    return \"Invalid input format for this specific logic\"\n",
        "\n",
        "  return f\"{last_name}.{first_name}\"\n",
        "\n",
        "# Example usage:\n",
        "print(f\"Formatted name for 'kruthikakadaru': {format_name('kruthikakadaru')}\")\n",
        "print(f\"Formatted name for 'shireeninara': {format_name('shireeninara')}\")"
      ],
      "execution_count": 7,
      "outputs": [
        {
          "output_type": "stream",
          "name": "stdout",
          "text": [
            "Formatted name for 'kruthikakadaru': kadaru.kruthika\n",
            "Formatted name for 'shireeninara': inara.shireen\n"
          ]
        }
      ]
    },
    {
      "cell_type": "markdown",
      "source": [
        "CODE DESCRIPTION:If the full_name is \"kruthikakadaru\", it assigns \"kruthika\" to the first_name variable and \"kadaru\" to the last_name variable.\n",
        "If the full_name is \"shireeninara\", it assigns \"shireen\" to the first_name variable and \"inara\" to the last_name variable.\n",
        "For any other input, it returns the string \"Invalid input format for this specific logic\".\n",
        "Finally, if a match was found, it returns a formatted string with the last_name followed by a period (.) and then the first_name."
      ],
      "metadata": {
        "id": "oyuaPcq0QKCL"
      }
    },
    {
      "cell_type": "markdown",
      "source": [
        "TASK:create a function that counts nummber of vowels in a string\n",
        "PROMPT 1:Generate a python function that counts number of vowels in a string."
      ],
      "metadata": {
        "id": "m3ypvTKGQRx7"
      }
    },
    {
      "cell_type": "code",
      "metadata": {
        "colab": {
          "base_uri": "https://localhost:8080/"
        },
        "id": "25e3da40",
        "outputId": "8eb12416-99c4-487d-c213-3dfd8ba8ff39"
      },
      "source": [
        "def count_vowels(text):\n",
        "  \"\"\"\n",
        "  Counts the number of vowels in a string.\n",
        "\n",
        "  Args:\n",
        "    text: The input string.\n",
        "\n",
        "  Returns:\n",
        "    The number of vowels in the string.\n",
        "  \"\"\"\n",
        "  vowels = \"aeiouAEIOU\"\n",
        "  vowel_count = 0\n",
        "  for char in text:\n",
        "    if char in vowels:\n",
        "      vowel_count += 1\n",
        "  return vowel_count\n",
        "\n",
        "# Example usage:\n",
        "text = \"Hello World\"\n",
        "num_vowels = count_vowels(text)\n",
        "print(f\"The number of vowels in '{text}' is: {num_vowels}\")\n",
        "\n",
        "text_2 = \"Python Programming\"\n",
        "num_vowels_2 = count_vowels(text_2)\n",
        "print(f\"The number of vowels in '{text_2}' is: {num_vowels_2}\")"
      ],
      "execution_count": 8,
      "outputs": [
        {
          "output_type": "stream",
          "name": "stdout",
          "text": [
            "The number of vowels in 'Hello World' is: 3\n",
            "The number of vowels in 'Python Programming' is: 4\n"
          ]
        }
      ]
    },
    {
      "cell_type": "markdown",
      "source": [
        "TASK:create a function that counts nummber of vowels in a string PROMPT:Generate a python function that counts number of vowels in a string like if the input is banana output should be no.of vowels in banana is 3 and for priya it is 2"
      ],
      "metadata": {
        "id": "c5NtpfPxR_3Q"
      }
    },
    {
      "cell_type": "code",
      "metadata": {
        "colab": {
          "base_uri": "https://localhost:8080/"
        },
        "id": "2e7c1be0",
        "outputId": "d0b59ec4-e016-423b-c8c5-197cc19a115e"
      },
      "source": [
        "def count_vowels(text):\n",
        "  \"\"\"\n",
        "  Counts the number of vowels in a string.\n",
        "\n",
        "  Args:\n",
        "    text: The input string.\n",
        "\n",
        "  Returns:\n",
        "    The number of vowels in the string.\n",
        "  \"\"\"\n",
        "  vowels = \"aeiouAEIOU\"\n",
        "  vowel_count = 0\n",
        "  for char in text:\n",
        "    if char in vowels:\n",
        "      vowel_count += 1\n",
        "  return vowel_count\n",
        "\n",
        "# Example usage:\n",
        "text = \"banana\"\n",
        "num_vowels = count_vowels(text)\n",
        "print(f\"no.of vowels in {text} is {num_vowels}\")\n",
        "\n",
        "text_2 = \"priya\"\n",
        "num_vowels_2 = count_vowels(text_2)\n",
        "print(f\"no.of vowels in {text_2} is {num_vowels_2}\")"
      ],
      "execution_count": 9,
      "outputs": [
        {
          "output_type": "stream",
          "name": "stdout",
          "text": [
            "no.of vowels in banana is 3\n",
            "no.of vowels in priya is 2\n"
          ]
        }
      ]
    },
    {
      "cell_type": "markdown",
      "source": [
        "COMPARISION:Both Prompt 1 and Prompt 2 asked for a Python function to count the number of vowels in a string, and the core logic for counting vowels is the same in both cases.\n",
        "\n",
        "The difference lies in the example usage and the format of the printed output based on the specific examples provided in each prompt:\n",
        "\n",
        "Prompt 1: The examples used were \"Hello World\" and \"Python Programming\", and the output format was \"The number of vowels in '[string]' is: [count]\".\n",
        "Prompt 2: The examples used were \"banana\" and \"priya\", and the output format was \"no.of vowels in [string] is [count]\"."
      ],
      "metadata": {
        "id": "Wr4pCfCFV26V"
      }
    },
    {
      "cell_type": "markdown",
      "source": [
        "TASK:CREATE A PYTHON CODE THAT READS A TEXT FILE AND RETURNS NUMBER OF LINES\n",
        "PROMPT:generate a function that reads a .txt file and returns the number of lines."
      ],
      "metadata": {
        "id": "WqbzFiTEUEez"
      }
    },
    {
      "cell_type": "code",
      "metadata": {
        "colab": {
          "base_uri": "https://localhost:8080/"
        },
        "id": "42cdecb9",
        "outputId": "f6153132-81f9-44a4-cb36-d148186b05b4"
      },
      "source": [
        "def count_lines_in_file(filename):\n",
        "  \"\"\"\n",
        "  Reads a text file and returns the number of lines.\n",
        "\n",
        "  Args:\n",
        "    filename: The path to the text file.\n",
        "\n",
        "  Returns:\n",
        "    The number of lines in the file, or an error message if the file cannot be read.\n",
        "  \"\"\"\n",
        "  try:\n",
        "    with open(filename, 'r') as f:\n",
        "      lines = f.readlines()\n",
        "      return len(lines)\n",
        "  except FileNotFoundError:\n",
        "    return f\"Error: The file '{filename}' was not found.\"\n",
        "  except Exception as e:\n",
        "    return f\"An error occurred: {e}\"\n",
        "\n",
        "# Example usage:\n",
        "# First, let's create a dummy text file for demonstration\n",
        "with open(\"my_document.txt\", \"w\") as f:\n",
        "  f.write(\"This is line 1.\\n\")\n",
        "  f.write(\"This is line 2.\\n\")\n",
        "  f.write(\"This is line 3.\\n\")\n",
        "\n",
        "file_name = \"my_document.txt\"\n",
        "number_of_lines = count_lines_in_file(file_name)\n",
        "print(f\"The number of lines in '{file_name}' is: {number_of_lines}\")\n",
        "\n",
        "# Example with a non-existent file\n",
        "non_existent_file = \"non_existent_file.txt\"\n",
        "result = count_lines_in_file(non_existent_file)\n",
        "print(result)"
      ],
      "execution_count": 10,
      "outputs": [
        {
          "output_type": "stream",
          "name": "stdout",
          "text": [
            "The number of lines in 'my_document.txt' is: 3\n",
            "Error: The file 'non_existent_file.txt' was not found.\n"
          ]
        }
      ]
    },
    {
      "cell_type": "markdown",
      "source": [
        "CODE DESCRIPTION:t uses a try...except block to handle potential errors like the file not being found.\n",
        "Inside the try block, it opens the specified file in read mode ('r') using a with statement, which ensures the file is automatically closed even if errors occur.\n",
        "f.readlines() reads all the lines from the file into a list called lines.\n",
        "len(lines) calculates the number of items (lines) in the list and returns this count.\n",
        "If a FileNotFoundError occurs (meaning the file doesn't exist), it returns an informative error message.\n",
        "If any other exception occurs during file processing, it catches it and returns a generic error message including the exception details.\n",
        "The example usage first creates a dummy text file named \"my_document.txt\" with three lines. Then, it calls the count_lines_in_file function with this filename and prints the result."
      ],
      "metadata": {
        "id": "ZADP6IrUVLMS"
      }
    }
  ]
}