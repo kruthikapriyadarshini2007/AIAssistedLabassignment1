{
  "nbformat": 4,
  "nbformat_minor": 0,
  "metadata": {
    "colab": {
      "provenance": [],
      "authorship_tag": "ABX9TyMdpBsfJXIAFCvrb8v+MQgi",
      "include_colab_link": true
    },
    "kernelspec": {
      "name": "python3",
      "display_name": "Python 3"
    },
    "language_info": {
      "name": "python"
    }
  },
  "cells": [
    {
      "cell_type": "markdown",
      "metadata": {
        "id": "view-in-github",
        "colab_type": "text"
      },
      "source": [
        "<a href=\"https://colab.research.google.com/github/kruthikapriyadarshini2007/AIAssistedLabassignment1/blob/main/ailab5_2.ipynb\" target=\"_parent\"><img src=\"https://colab.research.google.com/assets/colab-badge.svg\" alt=\"Open In Colab\"/></a>"
      ]
    },
    {
      "cell_type": "code",
      "execution_count": null,
      "metadata": {
        "id": "Z5KBdcD302of"
      },
      "outputs": [],
      "source": [
        "\n"
      ]
    },
    {
      "cell_type": "markdown",
      "source": [
        "task1:generation of a login system\n",
        "PROMPT:generate a code for login system."
      ],
      "metadata": {
        "id": "EaeS2C3B1iiP"
      }
    },
    {
      "cell_type": "code",
      "source": [
        "def login():\n",
        "    \"\"\"Simulates a simple login system.\"\"\"\n",
        "    username = input(\"Enter username: \")\n",
        "    password = input(\"Enter password: \")\n",
        "\n",
        "    # In a real system, you would check credentials against a database\n",
        "    if username == \"admin\" and password == \"password123\":\n",
        "        print(\"Login successful!\")\n",
        "    else:\n",
        "        print(\"Invalid username or password.\")\n",
        "\n",
        "if __name__ == \"__main__\":\n",
        "    login()\n"
      ],
      "metadata": {
        "colab": {
          "base_uri": "https://localhost:8080/"
        },
        "id": "2uhygL5P26DB",
        "outputId": "ec7c8170-1e7a-4266-ec85-b2b82e71e6e0"
      },
      "execution_count": null,
      "outputs": [
        {
          "output_type": "stream",
          "name": "stdout",
          "text": [
            "Enter username: admin\n",
            "Enter password: password123\n",
            "Login successful!\n"
          ]
        }
      ]
    },
    {
      "cell_type": "markdown",
      "source": [
        "PROMPT:Generate a code for login system with strong password and username security system with encrypted password.\n"
      ],
      "metadata": {
        "id": "Isy3QemO3EkI"
      }
    },
    {
      "cell_type": "code",
      "source": [
        "!pip install bcrypt"
      ],
      "metadata": {
        "id": "7W0Ku4L3-0qO",
        "outputId": "bb2f4d26-3fda-4b09-bcd9-ec5c0ea75864",
        "colab": {
          "base_uri": "https://localhost:8080/"
        }
      },
      "execution_count": null,
      "outputs": [
        {
          "output_type": "stream",
          "name": "stdout",
          "text": [
            "Collecting bcrypt\n",
            "  Downloading bcrypt-4.3.0-cp39-abi3-manylinux_2_34_x86_64.whl.metadata (10 kB)\n",
            "Downloading bcrypt-4.3.0-cp39-abi3-manylinux_2_34_x86_64.whl (284 kB)\n",
            "\u001b[?25l   \u001b[90m━━━━━━━━━━━━━━━━━━━━━━━━━━━━━━━━━━━━━━━━\u001b[0m \u001b[32m0.0/284.2 kB\u001b[0m \u001b[31m?\u001b[0m eta \u001b[36m-:--:--\u001b[0m\r\u001b[2K   \u001b[91m━━━━━━━━━━━━━━━━━━━━━\u001b[0m\u001b[91m╸\u001b[0m\u001b[90m━━━━━━━━━━━━━━━━━━\u001b[0m \u001b[32m153.6/284.2 kB\u001b[0m \u001b[31m4.6 MB/s\u001b[0m eta \u001b[36m0:00:01\u001b[0m\r\u001b[2K   \u001b[90m━━━━━━━━━━━━━━━━━━━━━━━━━━━━━━━━━━━━━━━━\u001b[0m \u001b[32m284.2/284.2 kB\u001b[0m \u001b[31m5.2 MB/s\u001b[0m eta \u001b[36m0:00:00\u001b[0m\n",
            "\u001b[?25hInstalling collected packages: bcrypt\n",
            "Successfully installed bcrypt-4.3.0\n"
          ]
        }
      ]
    },
    {
      "cell_type": "code",
      "source": [
        "import bcrypt\n",
        "import getpass # Using getpass to avoid echoing password in terminal\n",
        "\n",
        "# In a real application, stored_hash would come from your database\n",
        "# For demonstration, let's simulate a stored hash for a user 'test_user'\n",
        "# You would generate this hash when the user registers\n",
        "def hash_password(password):\n",
        "    # bcrypt requires bytes, so encode the password\n",
        "    hashed_bytes = bcrypt.hashpw(password.encode('utf-8'), bcrypt.gensalt())\n",
        "    # Store the hash as a string\n",
        "    return hashed_bytes.decode('utf-8')\n",
        "\n",
        "def check_password(password, hashed_password):\n",
        "    # bcrypt requires bytes for both the entered password and the stored hash\n",
        "    return bcrypt.checkpw(password.encode('utf-8'), hashed_password.encode('utf-8'))\n",
        "\n",
        "# --- Simulate user registration (run this once to get a stored hash) ---\n",
        "# Imagine a user 'test_user' registers with password 'secure_password123'\n",
        "registration_password = \"secure_password123\"\n",
        "stored_hash = hash_password(registration_password)\n",
        "print(f\"Simulating registration for 'test_user'. Stored hash: {stored_hash}\")\n",
        "# In a real app, you would save stored_hash and the username ('test_user') in your database.\n",
        "\n",
        "# --- Simulate login attempt ---\n",
        "def login():\n",
        "    print(\"\\n--- Login ---\")\n",
        "    username = input(\"Enter username: \")\n",
        "    # Use getpass to hide password input\n",
        "    password = getpass.getpass(\"Enter password: \")\n",
        "\n",
        "    # In a real application, retrieve the hash for the entered username from the database\n",
        "    # For this example, we assume the username is 'test_user' and we use the stored_hash generated above\n",
        "    if username == \"test_user\":\n",
        "        if check_password(password, stored_hash):\n",
        "            print(\"Login successful!\")\n",
        "        else:\n",
        "            print(\"Invalid password.\")\n",
        "    else:\n",
        "        print(\"Invalid username.\")\n",
        "\n",
        "if _name_ == \"_main_\":\n",
        "    # First, demonstrate hashing a password (as if a user is registering)\n",
        "    # Then, run the login function\n",
        "    login()"
      ],
      "metadata": {
        "colab": {
          "base_uri": "https://localhost:8080/",
          "height": 228
        },
        "id": "1aOPmjrn-uYj",
        "outputId": "ee280dca-27c6-4eb1-ff07-72fc87f73af3"
      },
      "execution_count": null,
      "outputs": [
        {
          "output_type": "stream",
          "name": "stdout",
          "text": [
            "Simulating registration for 'test_user'. Stored hash: $2b$12$k0n7z4T4NRqVVND4GYlG.O/kscGgHQz/FgAqMPCsaxR4A1YHDr/4m\n"
          ]
        },
        {
          "output_type": "error",
          "ename": "NameError",
          "evalue": "name '_name_' is not defined",
          "traceback": [
            "\u001b[0;31m---------------------------------------------------------------------------\u001b[0m",
            "\u001b[0;31mNameError\u001b[0m                                 Traceback (most recent call last)",
            "\u001b[0;32m/tmp/ipython-input-2540966105.py\u001b[0m in \u001b[0;36m<cell line: 0>\u001b[0;34m()\u001b[0m\n\u001b[1;32m     39\u001b[0m         \u001b[0mprint\u001b[0m\u001b[0;34m(\u001b[0m\u001b[0;34m\"Invalid username.\"\u001b[0m\u001b[0;34m)\u001b[0m\u001b[0;34m\u001b[0m\u001b[0;34m\u001b[0m\u001b[0m\n\u001b[1;32m     40\u001b[0m \u001b[0;34m\u001b[0m\u001b[0m\n\u001b[0;32m---> 41\u001b[0;31m \u001b[0;32mif\u001b[0m \u001b[0m_name_\u001b[0m \u001b[0;34m==\u001b[0m \u001b[0;34m\"_main_\"\u001b[0m\u001b[0;34m:\u001b[0m\u001b[0;34m\u001b[0m\u001b[0;34m\u001b[0m\u001b[0m\n\u001b[0m\u001b[1;32m     42\u001b[0m     \u001b[0;31m# First, demonstrate hashing a password (as if a user is registering)\u001b[0m\u001b[0;34m\u001b[0m\u001b[0;34m\u001b[0m\u001b[0m\n\u001b[1;32m     43\u001b[0m     \u001b[0;31m# Then, run the login function\u001b[0m\u001b[0;34m\u001b[0m\u001b[0;34m\u001b[0m\u001b[0m\n",
            "\u001b[0;31mNameError\u001b[0m: name '_name_' is not defined"
          ]
        }
      ]
    },
    {
      "cell_type": "markdown",
      "source": [
        "TASK:mitigation techniques\n",
        "PROMPT:write a code for loan approval for jhon"
      ],
      "metadata": {
        "id": "DpB6DdE_38Kj"
      }
    },
    {
      "cell_type": "code",
      "metadata": {
        "colab": {
          "base_uri": "https://localhost:8080/"
        },
        "id": "61b56d95",
        "outputId": "449571e7-4168-4830-b43e-2380f95163ec"
      },
      "source": [
        "def loan_approval(name, credit_score, income, loan_amount):\n",
        "    \"\"\"\n",
        "    Approves or denies a loan based on simple criteria.\n",
        "\n",
        "    Args:\n",
        "        name (str): The name of the applicant.\n",
        "        credit_score (int): The applicant's credit score.\n",
        "        income (float): The applicant's annual income.\n",
        "        loan_amount (float): The requested loan amount.\n",
        "\n",
        "    Returns:\n",
        "        str: A message indicating whether the loan is approved or denied.\n",
        "    \"\"\"\n",
        "    # Define some simple criteria for loan approval\n",
        "    min_credit_score = 650\n",
        "    min_income_to_loan_ratio = 0.2 # Income should be at least 20% of the loan amount\n",
        "\n",
        "    if credit_score >= min_credit_score and income >= loan_amount * min_income_to_loan_ratio:\n",
        "        return f\"Loan for {name} is approved!\"\n",
        "    else:\n",
        "        return f\"Loan for {name} is denied based on the criteria.\"\n",
        "\n",
        "# Example usage for John\n",
        "applicant_name = \"John\"\n",
        "john_credit_score = 700\n",
        "john_income = 50000.00\n",
        "requested_loan_amount = 10000.00\n",
        "\n",
        "approval_status = loan_approval(applicant_name, john_credit_score, john_income, requested_loan_amount)\n",
        "print(approval_status)\n",
        "\n",
        "# Example usage with different values\n",
        "applicant_name_2 = \"Jane\"\n",
        "jane_credit_score = 600\n",
        "jane_income = 60000.00\n",
        "requested_loan_amount_2 = 20000.00\n",
        "\n",
        "approval_status_2 = loan_approval(applicant_name_2, jane_credit_score, jane_income, requested_loan_amount_2)\n",
        "print(approval_status_2)"
      ],
      "execution_count": null,
      "outputs": [
        {
          "output_type": "stream",
          "name": "stdout",
          "text": [
            "Loan for John is approved!\n",
            "Loan for Jane is denied based on the criteria.\n"
          ]
        }
      ]
    },
    {
      "cell_type": "markdown",
      "source": [
        "PROMPT:generate code for loan approval for priya"
      ],
      "metadata": {
        "id": "PJuZj8Mh5Vy6"
      }
    },
    {
      "cell_type": "code",
      "metadata": {
        "colab": {
          "base_uri": "https://localhost:8080/"
        },
        "id": "bbed3f32",
        "outputId": "face43ea-9bb1-4868-9736-4b72b7f7af57"
      },
      "source": [
        "def loan_approval(name, credit_score, income, loan_amount):\n",
        "    \"\"\"\n",
        "    Approves or denies a loan based on simple criteria.\n",
        "\n",
        "    Args:\n",
        "        name (str): The name of the applicant.\n",
        "        credit_score (int): The applicant's credit score.\n",
        "        income (float): The applicant's annual income.\n",
        "        loan_amount (float): The requested loan amount.\n",
        "\n",
        "    Returns:\n",
        "        str: A message indicating whether the loan is approved or denied.\n",
        "    \"\"\"\n",
        "    # Define some simple criteria for loan approval\n",
        "    min_credit_score = 650\n",
        "    min_income_to_loan_ratio = 0.2 # Income should be at least 20% of the loan amount\n",
        "\n",
        "    if credit_score >= min_credit_score and income >= loan_amount * min_income_to_loan_ratio:\n",
        "        return f\"Loan for {name} is approved!\"\n",
        "    else:\n",
        "        return f\"Loan for {name} is denied based on the criteria.\"\n",
        "\n",
        "# Example usage for Priya\n",
        "applicant_name_priya = \"Priya\"\n",
        "priya_credit_score = 720  # Example credit score for Priya\n",
        "priya_income = 75000.00   # Example income for Priya\n",
        "requested_loan_amount_priya = 15000.00 # Example loan amount for Priya\n",
        "\n",
        "approval_status_priya = loan_approval(applicant_name_priya, priya_credit_score, priya_income, requested_loan_amount_priya)\n",
        "print(approval_status_priya)"
      ],
      "execution_count": null,
      "outputs": [
        {
          "output_type": "stream",
          "name": "stdout",
          "text": [
            "Loan for Priya is approved!\n"
          ]
        }
      ]
    },
    {
      "cell_type": "markdown",
      "source": [
        "TASK:checkig transperancy\n",
        "PROMPT:Generate a python function to calculate the nth fibonacci number using recursion"
      ],
      "metadata": {
        "id": "Nvpk0jbc6Jls"
      }
    },
    {
      "cell_type": "code",
      "metadata": {
        "colab": {
          "base_uri": "https://localhost:8080/"
        },
        "id": "832f74db",
        "outputId": "d9b2933a-6fb1-4a28-869f-9eb72774899a"
      },
      "source": [
        "def fibonacci_recursive(n):\n",
        "  \"\"\"\n",
        "  Calculates the nth Fibonacci number using recursion.\n",
        "\n",
        "  Args:\n",
        "    n: The position of the Fibonacci number to calculate (non-negative integer).\n",
        "\n",
        "  Returns:\n",
        "    The nth Fibonacci number.\n",
        "  \"\"\"\n",
        "  if n <= 1:\n",
        "    return n\n",
        "  else:\n",
        "    return fibonacci_recursive(n-1) + fibonacci_recursive(n-2)\n",
        "\n",
        "# Example usage:\n",
        "n = 10\n",
        "print(f\"The {n}th Fibonacci number is: {fibonacci_recursive(n)}\")"
      ],
      "execution_count": null,
      "outputs": [
        {
          "output_type": "stream",
          "name": "stdout",
          "text": [
            "The 10th Fibonacci number is: 55\n"
          ]
        }
      ]
    },
    {
      "cell_type": "markdown",
      "source": [
        "DESCRIPTION:def fibonacci_recursive(n):: This line defines the function fibonacci_recursive which takes one argument, n.\n",
        "if n <= 1:: This is the base case of the recursion. The Fibonacci sequence starts with 0 and 1. If n is 0 or 1, the function returns n itself. This stops the recursion.\n",
        "return n: Returns 0 if n is 0, and 1 if n is 1.\n",
        "else:: This is the recursive step for n greater than 1.\n",
        "return fibonacci_recursive(n-1) + fibonacci_recursive(n-2): This is where the recursion happens. The function calls itself twice, once with n-1 and once with n-2, and returns the sum of their results. This follows the definition of the Fibonacci sequence where each number is the sum of the two preceding ones.\n",
        "The example usage n = 10 and print(f\"The {n}th Fibonacci number is: {fibonacci_recursive(n)}\") calculates and prints the 10th Fibonacci number using this recursive function.\n",
        "yes,the explanation and code is understandable."
      ],
      "metadata": {
        "id": "wQOp_QYV68Vu"
      }
    },
    {
      "cell_type": "markdown",
      "source": [
        "TASK:Verifying bais\n",
        "PROMPT:generate a job applicant scoring system based on input features (e.g., education, experience, gender, age)."
      ],
      "metadata": {
        "id": "m9lobbwQ7Evm"
      }
    },
    {
      "cell_type": "code",
      "metadata": {
        "id": "5d6d14c4"
      },
      "source": [
        "def score_applicant(education, experience, gender, age):\n",
        "    \"\"\"\n",
        "    Calculates a basic score for a job applicant based on education and experience.\n",
        "\n",
        "    Args:\n",
        "        education (str): The applicant's education level (e.g., \"High School\", \"Bachelor's\", \"Master's\", \"PhD\").\n",
        "        experience (int): The applicant's years of relevant experience.\n",
        "        gender (str): The applicant's gender.\n",
        "        age (int): The applicant's age.\n",
        "\n",
        "    Returns:\n",
        "        int: The calculated score.\n",
        "    \"\"\"\n",
        "    score = 0\n",
        "\n",
        "    # Score based on education\n",
        "    education_scores = {\n",
        "        \"High School\": 10,\n",
        "        \"Bachelor's\": 20,\n",
        "        \"Master's\": 30,\n",
        "        \"PhD\": 40\n",
        "    }\n",
        "    score += education_scores.get(education, 0)  # Add score for education, default to 0 if not in dict\n",
        "\n",
        "    # Score based on experience\n",
        "    score += experience * 5  # Add 5 points for each year of experience\n",
        "\n",
        "    # Note: Gender and age are included as arguments but not used in this basic scoring\n",
        "    # to highlight the potential for bias and the need for mitigation techniques later.\n",
        "    # In a real-world scenario, using these features directly in scoring can lead to bias.\n",
        "\n",
        "    return score\n",
        "\n",
        "# Example usage (will be used in a later step)\n",
        "# applicant1_features = {\"education\": \"Bachelor's\", \"experience\": 5, \"gender\": \"Female\", \"age\": 28}\n",
        "# applicant2_features = {\"education\": \"Master's\", \"experience\": 3, \"gender\": \"Male\", \"age\": 35}\n",
        "\n",
        "# score1 = score_applicant(**applicant1_features)\n",
        "# score2 = score_applicant(**applicant2_features)\n",
        "\n",
        "# print(f\"Applicant 1 Score: {score1}\")\n",
        "# print(f\"Applicant 2 Score: {score2}\")"
      ],
      "execution_count": null,
      "outputs": []
    },
    {
      "cell_type": "code",
      "metadata": {
        "colab": {
          "base_uri": "https://localhost:8080/"
        },
        "id": "1007c802",
        "outputId": "12ae884a-0924-4028-af42-71223afaf7ae"
      },
      "source": [
        "# Example usage\n",
        "applicant1_features = {\"education\": \"Bachelor's\", \"experience\": 5, \"gender\": \"Female\", \"age\": 28}\n",
        "applicant2_features = {\"education\": \"Master's\", \"experience\": 3, \"gender\": \"Male\", \"age\": 35}\n",
        "applicant3_features = {\"education\": \"Bachelor's\", \"experience\": 7, \"gender\": \"Male\", \"age\": 30}\n",
        "applicant4_features = {\"education\": \"PhD\", \"experience\": 2, \"gender\": \"Female\", \"age\": 25}\n",
        "\n",
        "\n",
        "score1 = score_applicant(**applicant1_features)\n",
        "score2 = score_applicant(**applicant2_features)\n",
        "score3 = score_applicant(**applicant3_features)\n",
        "score4 = score_applicant(**applicant4_features)\n",
        "\n",
        "print(f\"Applicant 1 Score: {score1}\")\n",
        "print(f\"Applicant 2 Score: {score2}\")\n",
        "print(f\"Applicant 3 Score: {score3}\")\n",
        "print(f\"Applicant 4 Score: {score4}\")"
      ],
      "execution_count": null,
      "outputs": [
        {
          "output_type": "stream",
          "name": "stdout",
          "text": [
            "Applicant 1 Score: 45\n",
            "Applicant 2 Score: 45\n",
            "Applicant 3 Score: 55\n",
            "Applicant 4 Score: 50\n"
          ]
        }
      ]
    },
    {
      "cell_type": "markdown",
      "source": [
        "NO,there is no change in score evaluation with respect to gender.The code is and evaluation is same for all gender."
      ],
      "metadata": {
        "id": "_xr6v4_L7wF1"
      }
    },
    {
      "cell_type": "markdown",
      "source": [
        "TASK:INCLUSIVNESS\n",
        "PROMPT:def greet_user(name,gender):\n",
        "if gender.lower()==\"male\":\n",
        "title=\"Mr.\"\n",
        "else:\n",
        "title:\"Mrs.\"\n",
        "return f\"Hello,{title} {name}! Welcome.\"\n",
        "generate a code for gender-neutral also"
      ],
      "metadata": {
        "id": "L0BLA2587_Ii"
      }
    },
    {
      "cell_type": "code",
      "metadata": {
        "colab": {
          "base_uri": "https://localhost:8080/"
        },
        "id": "4d3d8a1b",
        "outputId": "02a8678d-61a0-4968-de51-b7ca76da4ec3"
      },
      "source": [
        "def greet_user(name, gender):\n",
        "    \"\"\"\n",
        "    Greets a user with a title based on gender, including a gender-neutral option.\n",
        "\n",
        "    Args:\n",
        "        name (str): The name of the user.\n",
        "        gender (str): The gender of the user (\"male\", \"female\", or \"neutral\").\n",
        "\n",
        "    Returns:\n",
        "        str: A personalized greeting.\n",
        "    \"\"\"\n",
        "    title = \"\"\n",
        "    if gender.lower() == \"male\":\n",
        "        title = \"Mr.\"\n",
        "    elif gender.lower() == \"female\":\n",
        "        title = \"Ms.\" # Using Ms. as a common neutral alternative to Mrs. or Miss\n",
        "    # For 'neutral' or any other input, no title is added\n",
        "\n",
        "    if title:\n",
        "        return f\"Hello, {title} {name}! Welcome.\"\n",
        "    else:\n",
        "        return f\"Hello, {name}! Welcome.\"\n",
        "\n",
        "# Example usage:\n",
        "print(greet_user(\"John\", \"male\"))\n",
        "print(greet_user(\"Jane\", \"female\"))\n",
        "print(greet_user(\"Alex\", \"neutral\"))\n",
        "print(greet_user(\"Sam\", \"unknown\")) # Example with an unhandled gender input"
      ],
      "execution_count": null,
      "outputs": [
        {
          "output_type": "stream",
          "name": "stdout",
          "text": [
            "Hello, Mr. John! Welcome.\n",
            "Hello, Ms. Jane! Welcome.\n",
            "Hello, Alex! Welcome.\n",
            "Hello, Sam! Welcome.\n"
          ]
        }
      ]
    }
  ]
}