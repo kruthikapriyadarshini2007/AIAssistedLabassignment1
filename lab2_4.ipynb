{
  "nbformat": 4,
  "nbformat_minor": 0,
  "metadata": {
    "colab": {
      "provenance": [],
      "authorship_tag": "ABX9TyNQqDXlNgBwFqJl+SImx0Wz",
      "include_colab_link": true
    },
    "kernelspec": {
      "name": "python3",
      "display_name": "Python 3"
    },
    "language_info": {
      "name": "python"
    }
  },
  "cells": [
    {
      "cell_type": "markdown",
      "metadata": {
        "id": "view-in-github",
        "colab_type": "text"
      },
      "source": [
        "<a href=\"https://colab.research.google.com/github/kruthikapriyadarshini2007/AIAssistedLabassignment1/blob/main/lab2_4.ipynb\" target=\"_parent\"><img src=\"https://colab.research.google.com/assets/colab-badge.svg\" alt=\"Open In Colab\"/></a>"
      ]
    },
    {
      "cell_type": "markdown",
      "source": [
        "Task0 write python function to verify the given number is odd or even\n",
        "\n",
        "prompt:generate python function to check a number is odd or even by taking input from user."
      ],
      "metadata": {
        "id": "Vb9jWunpOoUK"
      }
    },
    {
      "cell_type": "code",
      "source": [
        "def check_odd_even(number):\n",
        "  \"\"\"\n",
        "  Checks if a given number is odd or even.\n",
        "\n",
        "  Args:\n",
        "    number: The number to check.\n",
        "\n",
        "  Returns:\n",
        "    'Even' if the number is even, 'Odd' if the number is odd.\n",
        "  \"\"\"\n",
        "  if number % 2 == 0:\n",
        "    return \"Even\"\n",
        "  else:\n",
        "    return \"Odd\"\n",
        "\n",
        "try:\n",
        "  user_input = int(input(\"Enter an integer: \"))\n",
        "  result = check_odd_even(user_input)\n",
        "  print(f\"The number {user_input} is {result}.\")\n",
        "except ValueError:\n",
        "  print(\"Invalid input. Please enter an integer.\")"
      ],
      "metadata": {
        "colab": {
          "base_uri": "https://localhost:8080/"
        },
        "id": "f3NGGRLSP3qq",
        "outputId": "e0ba0fba-5ac3-44c8-8053-4d71f5bfbe11"
      },
      "execution_count": 1,
      "outputs": [
        {
          "output_type": "stream",
          "name": "stdout",
          "text": [
            "Enter an integer: 10\n",
            "The number 10 is Even.\n"
          ]
        }
      ]
    },
    {
      "cell_type": "markdown",
      "source": [
        "Task1 write a python function to sort lists\n",
        "prompt:Generate a python code where it uses bubble sort algorithm to sort list and other part using sort() built in method"
      ],
      "metadata": {
        "id": "jdahD7d_Qt_0"
      }
    },
    {
      "cell_type": "code",
      "metadata": {
        "colab": {
          "base_uri": "https://localhost:8080/"
        },
        "id": "9f532f25",
        "outputId": "7a72555a-990b-40e4-de50-043c1e9efdda"
      },
      "source": [
        "def bubble_sort(list1):\n",
        "    # Outer loop for traverse the entire list\n",
        "    for i in range(len(list1) - 1):\n",
        "        # Inner loop for comparison and swapping\n",
        "        for j in range(len(list1) - i - 1):\n",
        "            # Compare the elements\n",
        "            if list1[j] > list1[j + 1]:\n",
        "                # Swap the elements\n",
        "                temp = list1[j]\n",
        "                list1[j] = list1[j + 1]\n",
        "                list1[j + 1] = temp\n",
        "\n",
        "    return list1\n",
        "\n",
        "# Example usage with bubble sort\n",
        "my_list = [64, 34, 25, 12, 22, 11, 90]\n",
        "print(\"Original list:\", my_list)\n",
        "sorted_list_bubble = bubble_sort(my_list.copy()) # Use a copy to keep the original list for the next example\n",
        "print(\"Sorted list using bubble sort:\", sorted_list_bubble)"
      ],
      "execution_count": 2,
      "outputs": [
        {
          "output_type": "stream",
          "name": "stdout",
          "text": [
            "Original list: [64, 34, 25, 12, 22, 11, 90]\n",
            "Sorted list using bubble sort: [11, 12, 22, 25, 34, 64, 90]\n"
          ]
        }
      ]
    },
    {
      "cell_type": "markdown",
      "source": [
        "DESCRIPTION:first created a function named bubble_sort(list1) then in that block a for loop is initialised in range of length of the list minus 1 ,then an inner loop is created which goes in range of length of list -term in first for loop -1 in this inner loop if block is created with condition where the j term in list1 is greater than j+1 term in list1 then a temp is created and the j term of list1 is assigned to it and then we swap list1[j] with list1[j+1] and return this list and then the sorted list will be created bu the end of the loop and will be printed."
      ],
      "metadata": {
        "id": "NB1zxoqhTNmV"
      }
    },
    {
      "cell_type": "code",
      "metadata": {
        "colab": {
          "base_uri": "https://localhost:8080/"
        },
        "id": "fd2621b8",
        "outputId": "d7f8a394-e2b5-4257-993c-2ca4b62eefbc"
      },
      "source": [
        "# Example usage with the built-in sort() method\n",
        "my_list_2 = [64, 34, 25, 12, 22, 11, 90]\n",
        "print(\"Original list:\", my_list_2)\n",
        "my_list_2.sort()\n",
        "print(\"Sorted list using built-in sort():\", my_list_2)"
      ],
      "execution_count": 3,
      "outputs": [
        {
          "output_type": "stream",
          "name": "stdout",
          "text": [
            "Original list: [64, 34, 25, 12, 22, 11, 90]\n",
            "Sorted list using built-in sort(): [11, 12, 22, 25, 34, 64, 90]\n"
          ]
        }
      ]
    },
    {
      "cell_type": "markdown",
      "source": [
        "DESCRIPTION:In this we created a static list assigned to a variable called my_list_2 and then print the created list first then by using buit in sort function which is my_list_2.sort() we print the sorted list."
      ],
      "metadata": {
        "id": "NXfGjdReUtcm"
      }
    },
    {
      "cell_type": "markdown",
      "source": [
        "task2 write a python function which takes string an return count of no.of vowels,consonqnts and digits in it\n",
        "prompt:generate a python code which inputs the string from user and returns the values of number of vowels,consonants and digits present in the string."
      ],
      "metadata": {
        "id": "17X-dBjdVKvr"
      }
    },
    {
      "cell_type": "markdown",
      "source": [],
      "metadata": {
        "id": "l1GAtsdcVEJ4"
      }
    },
    {
      "cell_type": "code",
      "metadata": {
        "colab": {
          "base_uri": "https://localhost:8080/"
        },
        "id": "14cf3fe2",
        "outputId": "ae4bef19-df93-4384-8bc4-cebaf204b140"
      },
      "source": [
        "def count_chars(input_string):\n",
        "    \"\"\"\n",
        "    Counts the number of vowels, consonants, and digits in a string.\n",
        "\n",
        "    Args:\n",
        "        input_string: The string to analyze.\n",
        "\n",
        "    Returns:\n",
        "        A tuple containing the counts of vowels, consonants, and digits.\n",
        "    \"\"\"\n",
        "    vowels = \"aeiouAEIOU\"\n",
        "    consonants = \"bcdfghjklmnpqrstvwxyzBCDFGHJKLMNPQRSTVWXYZ\"\n",
        "    digits = \"0123456789\"\n",
        "\n",
        "    vowel_count = 0\n",
        "    consonant_count = 0\n",
        "    digit_count = 0\n",
        "\n",
        "    for char in input_string:\n",
        "        if char in vowels:\n",
        "            vowel_count += 1\n",
        "        elif char in consonants:\n",
        "            consonant_count += 1\n",
        "        elif char in digits:\n",
        "            digit_count += 1\n",
        "\n",
        "    return vowel_count, consonant_count, digit_count\n",
        "\n",
        "# Get input from the user\n",
        "user_string = input(\"Enter a string: \")\n",
        "\n",
        "# Call the function and print the results\n",
        "vowels, consonants, digits = count_chars(user_string)\n",
        "\n",
        "print(f\"Number of vowels: {vowels}\")\n",
        "print(f\"Number of consonants: {consonants}\")\n",
        "print(f\"Number of digits: {digits}\")"
      ],
      "execution_count": 4,
      "outputs": [
        {
          "output_type": "stream",
          "name": "stdout",
          "text": [
            "Enter a string: hi myself kruthika priya darshini\n",
            "Number of vowels: 10\n",
            "Number of consonants: 19\n",
            "Number of digits: 0\n"
          ]
        }
      ]
    },
    {
      "cell_type": "markdown",
      "source": [
        "DESCRIPTION:A function named count_chars is created which takes input of a string.vowels = \"aeiouAEIOU\", consonants = \"bcdfghjklmnpqrstvwxyzBCDFGHJKLMNPQRSTVWXYZ\", digits = \"0123456789\"are assigned.vowel_count = 0, consonant_count = 0, digit_count = 0 These lines initialize three variables to zero. These variables will store the total count of vowels, consonants, and digits found in the input string.\n",
        "for char in input_string:: This is a for loop that iterates through each character one by one in the input_string that was passed to the function.\n",
        "if char in vowels:: This checks if the current character (char) is present within the vowels string. If it is (meaning the character is a vowel), the code inside this if block is executed.vowel_count += 1: If the character is a vowel, this line increments the vowel_count by 1.elif char in consonants:: If the character is not a vowel, this elif (else if) statement checks if the current character is present within the consonants string. If it is (meaning the character is a consonant), the code inside this elif block is executed.consonant_count += 1: If the character is a consonant, this line increments the consonant_count by 1.elif char in digits:: If the character is neither a vowel nor a consonant, this elif statement checks if the current character is present within the digits string. If it is (meaning the character is a digit), the code inside this elif block is executed.digit_count += 1: If the character is a digit, this line increments the digit_count by 1 return vowel_count, consonant_count, digit_count: After the loop has processed every character in the input_string, this line returns the final values of vowel_count, consonant_count, and digit_count as a tuple.user_string = input(\"Enter a string: \"): This line prompts the user to enter a string when the code is run and stores the entered string in the user_string variable.vowels, consonants, digits = count_chars(user_string): This line calls the count_chars function with the string provided by the user. The function returns a tuple of three values, which are then assigned to the variables vowels, consonants, and digits respectively.print(f\"Number of vowels: {vowels}\"), print(f\"Number of consonants: {consonants}\"), print(f\"Number of digits: {digits}\"): These lines print the final counts of vowels, consonants, and digits to the console using f-strings to embed the variable values directly into the output strings.\n"
      ],
      "metadata": {
        "id": "XO95Q-W_WEFL"
      }
    },
    {
      "cell_type": "markdown",
      "source": [
        "task3 write a python code which creates reads and display the text from text file\n",
        "prompt:generate a python code which creates a text file reads the content of the text file and prints the text."
      ],
      "metadata": {
        "id": "OyKAX88YYukF"
      }
    },
    {
      "cell_type": "code",
      "metadata": {
        "colab": {
          "base_uri": "https://localhost:8080/"
        },
        "id": "84b3dfe3",
        "outputId": "75d97872-50f9-4d58-9521-72a2c13dd41c"
      },
      "source": [
        "# Create and write to a text file\n",
        "file_name = \"my_sample_file.txt\"\n",
        "content_to_write = \"This is a sample text file.\\nIt contains some sample content.hi my name is kruthika priya darshini studying btech-cse 2nd year in sr university\"\n",
        "\n",
        "try:\n",
        "    with open(file_name, \"w\") as file:\n",
        "        file.write(content_to_write)\n",
        "    print(f\"Successfully created and wrote to '{file_name}'\")\n",
        "\n",
        "except IOError as e:\n",
        "    print(f\"Error writing to file: {e}\")\n",
        "\n",
        "# Read the content of the text file\n",
        "try:\n",
        "    with open(file_name, \"r\") as file:\n",
        "        file_content = file.read()\n",
        "    print(f\"\\nSuccessfully read from '{file_name}':\")\n",
        "    print(file_content)\n",
        "\n",
        "except FileNotFoundError:\n",
        "    print(f\"Error: The file '{file_name}' was not found.\")\n",
        "except IOError as e:\n",
        "    print(f\"Error reading file: {e}\")"
      ],
      "execution_count": 8,
      "outputs": [
        {
          "output_type": "stream",
          "name": "stdout",
          "text": [
            "Successfully created and wrote to 'my_sample_file.txt'\n",
            "\n",
            "Successfully read from 'my_sample_file.txt':\n",
            "This is a sample text file.\n",
            "It contains some sample content.hi my name is kruthika priya darshini studying btech-cse 2nd year in sr university\n"
          ]
        }
      ]
    },
    {
      "cell_type": "markdown",
      "source": [
        "DESCRIPTION:file_name = \"my_sample_file.txt\": This line assigns the string \"my_sample_file.txt\" to the variable file_name. content_to_write = \"...\": This line assigns a multi-line string to the variable content_to_write. The \\n creates a new line within the text.try...except IOError as e:: This is a try...except block used for error handling. It attempts to execute the code within the try block. If an IOError occurs during file operations (like issues with writing), the code within the except block will be executed, printing an error message.with open(file_name, \"w\") as file:: This is the core of the file writing process.open(file_name, \"w\"): This function opens the file specified by file_name. The \"w\" mode means \"write mode\". If the file exists, its contents will be erased. If it doesn't exist, a new file will be created.with ... as file:: This is a context manager. It ensures that the file is automatically closed properly after the block of code is finished, even if errors occur. The opened file object is assigned to the variable file.file.write(content_to_write): This line writes the content stored in the content_to_write variable into the opened file.print(f\"Successfully created and wrote to '{file_name}'\"): If the writing is successful, this line prints a confirmation message.try...except FileNotFoundError...except IOError as e:: This is another try...except block for reading the file. It handles potential FileNotFoundError (if the file doesn't exist when trying to read) or general IOError during reading.\n",
        "with open(file_name, \"r\") as file:: This opens the file again, but this time in \"r\" mode, which means \"read mode\".file_content = file.read(): This line reads the entire content of the file and stores it in the file_content variable.\n",
        "print(f\"\\nSuccessfully read from '{file_name}':\"): If the reading is successful, this prints a confirmation message.\n",
        "print(file_content): This line prints the content that was read from the file to the console."
      ],
      "metadata": {
        "id": "uPFUCiNGaDGF"
      }
    },
    {
      "cell_type": "markdown",
      "source": [
        "task4 write a  python code to create a simple calculator which does addition subtraction multiplication and division\n",
        "prompt:Generate a python code which inputs two numbers from user and creates a calculator with additon subtraction multiplication and division function"
      ],
      "metadata": {
        "id": "xm8B31gaakU4"
      }
    },
    {
      "cell_type": "code",
      "metadata": {
        "colab": {
          "base_uri": "https://localhost:8080/"
        },
        "id": "b34b0b5f",
        "outputId": "e64de85e-353c-4b33-fbad-b94f7174b69e"
      },
      "source": [
        "def add(x, y):\n",
        "  \"\"\"Adds two numbers.\"\"\"\n",
        "  return x + y\n",
        "\n",
        "def subtract(x, y):\n",
        "  \"\"\"Subtracts two numbers.\"\"\"\n",
        "  return x - y\n",
        "\n",
        "def multiply(x, y):\n",
        "  \"\"\"Multiplies two numbers.\"\"\"\n",
        "  return x * y\n",
        "\n",
        "def divide(x, y):\n",
        "  \"\"\"Divides two numbers.\"\"\"\n",
        "  if y == 0:\n",
        "    return \"Error! Division by zero.\"\n",
        "  else:\n",
        "    return x / y\n",
        "\n",
        "# Get input from the user\n",
        "try:\n",
        "  num1 = float(input(\"Enter first number: \"))\n",
        "  num2 = float(input(\"Enter second number: \"))\n",
        "\n",
        "  print(\"Select operation:\")\n",
        "  print(\"1. Add\")\n",
        "  print(\"2. Subtract\")\n",
        "  print(\"3. Multiply\")\n",
        "  print(\"4. Divide\")\n",
        "\n",
        "  choice = input(\"Enter choice(1/2/3/4): \")\n",
        "\n",
        "  if choice == '1':\n",
        "    print(num1, \"+\", num2, \"=\", add(num1, num2))\n",
        "  elif choice == '2':\n",
        "    print(num1, \"-\", num2, \"=\", subtract(num1, num2))\n",
        "  elif choice == '3':\n",
        "    print(num1, \"*\", num2, \"=\", multiply(num1, num2))\n",
        "  elif choice == '4':\n",
        "    print(num1, \"/\", num2, \"=\", divide(num1, num2))\n",
        "  else:\n",
        "    print(\"Invalid input\")\n",
        "\n",
        "except ValueError:\n",
        "  print(\"Invalid input. Please enter numbers.\")"
      ],
      "execution_count": 9,
      "outputs": [
        {
          "output_type": "stream",
          "name": "stdout",
          "text": [
            "Enter first number: 15\n",
            "Enter second number: 20\n",
            "Select operation:\n",
            "1. Add\n",
            "2. Subtract\n",
            "3. Multiply\n",
            "4. Divide\n",
            "Enter choice(1/2/3/4): 2\n",
            "15.0 - 20.0 = -5.0\n"
          ]
        }
      ]
    },
    {
      "cell_type": "markdown",
      "source": [
        "DESCRIPTION:def add(x, y):, def subtract(x, y):, def multiply(x, y):, def divide(x, y):: These lines define four separate functions, each performing a basic arithmetic operation.Each function takes two arguments, x and y.\n",
        "The add, subtract, and multiply functions simply return the result of their respective operations.The divide function includes a check to prevent division by zero. If y is 0, it returns an error message; otherwise, it returns the result of the division.try...except ValueError:: This is a try...except block used for error handling. It attempts to execute the code within the try block. If a ValueError occurs (which would happen if the user enters something that cannot be converted to a number), the code within the except block is executed, printing an \"Invalid input\" message.num1 = float(input(\"Enter first number: \")), num2 = float(input(\"Enter second number: \")): These lines prompt the user to enter two numbers and store them as floating-point numbers in the num1 and num2 variables. Using float() allows for both integer and decimal inputs.\n",
        "print(\"Select operation:\") and subsequent print statements: These lines display a menu of available operations to the user.choice = input(\"Enter choice(1/2/3/4): \"): This line prompts the user to enter their choice of operation (1, 2, 3, or 4) and stores it as a string in the choice variable.if choice == '1': ... elif choice == '2': ... elif choice == '3': ... elif choice == '4': ... else: ...: This is a series of if-elif-else statements that check the user's input choice.Based on the choice, the corresponding arithmetic function (add, subtract, multiply, or divide) is called with num1 and num2 as arguments.The result of the function call is then printed to the console, along with the numbers and the operator, showing the full calculation.If the user enters a choice that is not 1, 2, 3, or 4, the else block is executed, printing \"Invalid input\".\n",
        "\n",
        "\n",
        "\n"
      ],
      "metadata": {
        "id": "LZE4NjzAbIw3"
      }
    },
    {
      "cell_type": "markdown",
      "source": [
        "task5 write a python function which checks if a given year is leap year or not\n",
        "prompt:generate a  functional python program to check leap year with sample input/output. At least two versions of the code (from different prompts). A short comparison of which version is better and why\n",
        "\n",
        "\n"
      ],
      "metadata": {
        "id": "rR-IWYfsb-Zn"
      }
    },
    {
      "cell_type": "markdown",
      "metadata": {
        "id": "b8ca5729"
      },
      "source": [
        "## Generate code version 1\n",
        "\n",
        "### Subtask:\n",
        "Create the first version of the leap year checking function and program with sample input/output.\n"
      ]
    },
    {
      "cell_type": "markdown",
      "metadata": {
        "id": "7743c3b1"
      },
      "source": [
        "**Reasoning**:\n",
        "Define the first version of the leap year checking function and create a program to test it with user input.\n",
        "\n"
      ]
    },
    {
      "cell_type": "code",
      "metadata": {
        "colab": {
          "base_uri": "https://localhost:8080/"
        },
        "id": "860a42c6",
        "outputId": "bc1823bd-6529-44db-f25a-59472fa91b5c"
      },
      "source": [
        "def is_leap_year_v1(year):\n",
        "  \"\"\"\n",
        "  Checks if a given year is a leap year (Version 1).\n",
        "\n",
        "  Args:\n",
        "    year: The year to check.\n",
        "\n",
        "  Returns:\n",
        "    True if the year is a leap year, False otherwise.\n",
        "  \"\"\"\n",
        "  if year % 4 == 0:\n",
        "    if year % 100 == 0:\n",
        "      if year % 400 == 0:\n",
        "        return True\n",
        "      else:\n",
        "        return False\n",
        "    else:\n",
        "      return True\n",
        "  else:\n",
        "    return False\n",
        "\n",
        "# Get input from the user\n",
        "try:\n",
        "  user_year = int(input(\"Enter a year: \"))\n",
        "\n",
        "  # Call the function and print the result\n",
        "  if is_leap_year_v1(user_year):\n",
        "    print(f\"The year {user_year} is a leap year.\")\n",
        "  else:\n",
        "    print(f\"The year {user_year} is not a leap year.\")\n",
        "\n",
        "except ValueError:\n",
        "  print(\"Invalid input. Please enter an integer for the year.\")"
      ],
      "execution_count": 10,
      "outputs": [
        {
          "output_type": "stream",
          "name": "stdout",
          "text": [
            "Enter a year: 1989\n",
            "The year 1989 is not a leap year.\n"
          ]
        }
      ]
    },
    {
      "cell_type": "markdown",
      "source": [
        "DESCRIPTION:def is_leap_year_v1(year):: This defines the function named is_leap_year_v1 that takes one argument, year.if year % 4 == 0:: This checks if the year is divisible by 4. This is the first condition for a leap year.if year % 100 == 0:: If the year is divisible by 4, this nested if checks if it's also divisible by 100. Years divisible by 100 are usually not leap years.if year % 400 == 0:: If the year is divisible by both 4 and 100, this further nested if checks if it's divisible by 400. Years divisible by 400 are leap years.return True: If divisible by 400, it's a leap year.else: return False: If divisible by 100 but not by 400, it's not a leap year.else: return True: If the year is divisible by 4 but not by 100, it is a leap year.else: return False: If the year is not divisible by 4, it's not a leap year.try...except ValueError:: This block handles potential errors if the user enters input that cannot be converted to an integer.user_year = int(input(\"Enter a year: \")): This prompts the user to enter a year and stores it as an integer.if is_leap_year_v1(user_year): ... else: ...: This calls the is_leap_year_v1 function with the user's input. Based on whether the function returns True or False, it prints a message indicating if the year is a leap year or not."
      ],
      "metadata": {
        "id": "Ylus9RWHdfnd"
      }
    },
    {
      "cell_type": "markdown",
      "metadata": {
        "id": "a7a642bd"
      },
      "source": [
        "**Reasoning**:\n",
        "Add a markdown cell to display the sample input and output for the first version of the leap year program.\n",
        "\n"
      ]
    },
    {
      "cell_type": "code",
      "metadata": {
        "colab": {
          "base_uri": "https://localhost:8080/"
        },
        "id": "6dfe9e17",
        "outputId": "71135ac4-daef-4327-fb78-131c18033c6e"
      },
      "source": [
        "def is_leap_year_v2(year):\n",
        "  \"\"\"\n",
        "  Checks if a given year is a leap year (Version 2).\n",
        "\n",
        "  Args:\n",
        "    year: The year to check.\n",
        "\n",
        "  Returns:\n",
        "    True if the year is a leap year, False otherwise.\n",
        "  \"\"\"\n",
        "  return (year % 4 == 0 and year % 100 != 0) or (year % 400 == 0)\n",
        "\n",
        "# Get input from the user\n",
        "try:\n",
        "  user_year = int(input(\"Enter a year: \"))\n",
        "\n",
        "  # Call the function and print the result\n",
        "  if is_leap_year_v2(user_year):\n",
        "    print(f\"The year {user_year} is a leap year.\")\n",
        "  else:\n",
        "    print(f\"The year {user_year} is not a leap year.\")\n",
        "\n",
        "except ValueError:\n",
        "  print(\"Invalid input. Please enter an integer for the year.\")"
      ],
      "execution_count": 11,
      "outputs": [
        {
          "output_type": "stream",
          "name": "stdout",
          "text": [
            "Enter a year: 2008\n",
            "The year 2008 is a leap year.\n"
          ]
        }
      ]
    },
    {
      "cell_type": "markdown",
      "source": [
        "DESCRIPTION:def is_leap_year_v2(year):: This defines the function named is_leap_year_v2 that takes one argument, year.return (year % 4 == 0 and year % 100 != 0) or (year % 400 == 0): This is the core of this version's logic. It's a single boolean expression that directly implements the leap year rules:(year % 4 == 0 and year % 100 != 0): This part checks if the year is divisible by 4 AND not divisible by 100. This covers most leap years (e.g., 2008, 2012).(year % 400 == 0): This part checks if the year is divisible by 400. This covers the exception for years divisible by 100 (e.g., 2000 is a leap year, 1900 is not).... or ...: The or operator means that if either of the two conditions is true, thefunction returns True (it's a leap year). Otherwise, it returns False.try...except ValueError:: This block handles potential errors if the user enters input that cannot be converted to an integer.user_year = int(input(\"Enter a year: \")): This prompts the user to enter a year and stores it as an integer.if is_leap_year_v2(user_year): ... else: ...: This calls the is_leap_year_v2 function with the user's input. Based on whether the function returns True or False, it prints a message indicating if the year is a leap year or not."
      ],
      "metadata": {
        "id": "FWgt3ig4qTi6"
      }
    },
    {
      "cell_type": "markdown",
      "metadata": {
        "id": "5d12f996"
      },
      "source": [
        "## Comparison of Leap Year Versions\n",
        "\n",
        "Both Version 1 and Version 2 correctly determine if a year is a leap year based on the standard rules:\n",
        "\n",
        "*   A year is a leap year if it is divisible by 4.\n",
        "*   However, if the year is divisible by 100, it is not a leap year unless...\n",
        "*   The year is also divisible by 400.\n",
        "\n",
        "**Version 1 (`is_leap_year_v1`):**\n",
        "\n",
        "This version uses nested `if-else` statements to check the conditions sequentially. It's very explicit and easy to follow the logic step by step.\n",
        "\n",
        "**Version 2 (`is_leap_year_v2`):**\n",
        "\n",
        "This version uses a single boolean expression with logical operators (`and`, `or`) to combine the conditions. This is a more concise and Pythonic way to express the logic.\n",
        "\n",
        "**Which version is better and why?**\n",
        "\n",
        "Version 2 is generally considered better in Python for its **conciseness and readability**. While Version 1 is also correct, the nested `if-else` structure can become harder to read as the conditions get more complex. Version 2 expresses the entire leap year rule in a single line, which is often preferred for its elegance and brevity in Python. It directly translates the leap year rule into a boolean expression."
      ]
    }
  ]
}